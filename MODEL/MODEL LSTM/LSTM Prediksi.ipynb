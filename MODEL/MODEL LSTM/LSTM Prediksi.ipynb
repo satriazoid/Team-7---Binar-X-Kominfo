{
 "cells": [
  {
   "cell_type": "code",
   "execution_count": 2,
   "id": "9e2b1e52-2778-44b0-9a39-40f625133bce",
   "metadata": {},
   "outputs": [],
   "source": [
    "from tensorflow.keras.models import load_model\n",
    "from tensorflow.keras.preprocessing.sequence import pad_sequences\n",
    "import re\n",
    "import pickle"
   ]
  },
  {
   "cell_type": "code",
   "execution_count": 4,
   "id": "41032038-07af-41ea-924b-4c844fefd02b",
   "metadata": {},
   "outputs": [],
   "source": [
    "tokenizer = pickle.load(open(\"feature_New_lstm.sav\", \"rb\"))\n",
    "loaded_model = pickle.load(open(\"model_lstm.sav\", \"rb\"))"
   ]
  },
  {
   "cell_type": "code",
   "execution_count": 6,
   "id": "0f2a6d3f-cf7c-41ed-a0b0-6f4355e5b1d2",
   "metadata": {},
   "outputs": [],
   "source": [
    "def pred_sentiment(string):    \n",
    "    string = re.sub(r'[^a-zA-Z0-9. ]', '', string)\n",
    "    string = string.lower()\n",
    "    text = [string]\n",
    "\n",
    "    sekuens_x = tokenizer.texts_to_sequences(text)\n",
    "    padded_x = pad_sequences(sekuens_x)\n",
    "\n",
    "    classes = loaded_model.predict(padded_x, batch_size=10)\n",
    "\n",
    "    return classes[0]"
   ]
  },
  {
   "cell_type": "code",
   "execution_count": 8,
   "id": "7bd3e4a7-bd64-40cb-90f0-b2a68f1e9395",
   "metadata": {},
   "outputs": [],
   "source": [
    "def pred(classes):\n",
    "    if classes[0] == classes.max():\n",
    "        print('negative')\n",
    "    if classes[1] == classes.max():\n",
    "        print('neutral')\n",
    "    if classes[2] == classes.max():\n",
    "        print('positive')"
   ]
  },
  {
   "cell_type": "code",
   "execution_count": 10,
   "id": "bf99cbe3-8918-4202-a445-dfa132f6b6a2",
   "metadata": {},
   "outputs": [
    {
     "name": "stdout",
     "output_type": "stream",
     "text": [
      "\u001b[1m1/1\u001b[0m \u001b[32m━━━━━━━━━━━━━━━━━━━━\u001b[0m\u001b[37m\u001b[0m \u001b[1m2s\u001b[0m 2s/step\n",
      "positive\n"
     ]
    }
   ],
   "source": [
    "string = '''aku suka kamu suka aku'''\n",
    "classes = pred_sentiment(string)\n",
    "pred(classes)"
   ]
  }
 ],
 "metadata": {
  "kernelspec": {
   "display_name": "venv_platinum",
   "language": "python",
   "name": "venv_platinum"
  },
  "language_info": {
   "codemirror_mode": {
    "name": "ipython",
    "version": 3
   },
   "file_extension": ".py",
   "mimetype": "text/x-python",
   "name": "python",
   "nbconvert_exporter": "python",
   "pygments_lexer": "ipython3",
   "version": "3.10.0rc2"
  }
 },
 "nbformat": 4,
 "nbformat_minor": 5
}
