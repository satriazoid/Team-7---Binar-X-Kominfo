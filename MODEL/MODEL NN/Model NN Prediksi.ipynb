{
 "cells": [
  {
   "cell_type": "code",
   "execution_count": 1,
   "id": "db520ec3-72fb-4931-8a84-8add11c3f6dc",
   "metadata": {},
   "outputs": [],
   "source": [
    "import pickle\n",
    "import re"
   ]
  },
  {
   "cell_type": "code",
   "execution_count": 2,
   "id": "dcae9a39-ba75-4d55-83df-1f92feb07e34",
   "metadata": {},
   "outputs": [],
   "source": [
    "original_text =  '''Kamu Suka kamu'''"
   ]
  },
  {
   "cell_type": "code",
   "execution_count": 5,
   "id": "5dd3124b-1890-48cc-aa7a-5ebbf040317b",
   "metadata": {},
   "outputs": [],
   "source": [
    "def cleansing(sent):\n",
    "    # Mengubah kata menjadi huruf kecil semua dengan menggunakan fungsi lower()\n",
    "    string = sent.lower()\n",
    "    # Menghapus emoticon dan tanda baca menggunakan \"RegEx\" dengan script di bawah\n",
    "    string = re.sub(r'[^a-zA-Z0-9]', ' ', string)\n",
    "    return string"
   ]
  },
  {
   "cell_type": "code",
   "execution_count": 7,
   "id": "254eab64-993a-4090-a3bd-e5e638415779",
   "metadata": {},
   "outputs": [
    {
     "data": {
      "text/plain": [
       "'kamu suka kamu'"
      ]
     },
     "execution_count": 7,
     "metadata": {},
     "output_type": "execute_result"
    }
   ],
   "source": [
    "cleansing(original_text)"
   ]
  },
  {
   "cell_type": "code",
   "execution_count": 9,
   "id": "5a0a9f21-452d-473f-98a4-7cf6de812e89",
   "metadata": {},
   "outputs": [],
   "source": [
    "count_vect = pickle.load(open(\"feature_New.sav\", \"rb\"))\n",
    "model_NN = pickle.load(open(\"model_NN.sav\", \"rb\"))"
   ]
  },
  {
   "cell_type": "code",
   "execution_count": 11,
   "id": "20139ace-3cee-412b-9dd3-305be75070ba",
   "metadata": {},
   "outputs": [],
   "source": [
    "text = count_vect.transform([cleansing(original_text)])"
   ]
  },
  {
   "cell_type": "code",
   "execution_count": 13,
   "id": "6af16d70-01dc-481a-9ed8-3c0045695091",
   "metadata": {},
   "outputs": [
    {
     "name": "stdout",
     "output_type": "stream",
     "text": [
      "Sentiment:\n",
      "\n",
      "positive\n"
     ]
    }
   ],
   "source": [
    "result = model_NN.predict(text)[0]\n",
    "print(\"Sentiment:\")\n",
    "print()\n",
    "print(result)"
   ]
  },
  {
   "cell_type": "code",
   "execution_count": null,
   "id": "b052a408-4c53-4754-8bdf-b6cb4ffe8548",
   "metadata": {},
   "outputs": [],
   "source": []
  }
 ],
 "metadata": {
  "kernelspec": {
   "display_name": "venv_platinum",
   "language": "python",
   "name": "venv_platinum"
  },
  "language_info": {
   "codemirror_mode": {
    "name": "ipython",
    "version": 3
   },
   "file_extension": ".py",
   "mimetype": "text/x-python",
   "name": "python",
   "nbconvert_exporter": "python",
   "pygments_lexer": "ipython3",
   "version": "3.10.0rc2"
  }
 },
 "nbformat": 4,
 "nbformat_minor": 5
}
